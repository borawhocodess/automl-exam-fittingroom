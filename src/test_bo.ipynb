{
 "cells": [
  {
   "cell_type": "code",
   "execution_count": 1,
   "id": "06844324",
   "metadata": {},
   "outputs": [
    {
     "ename": "",
     "evalue": "",
     "output_type": "error",
     "traceback": [
      "\u001b[1;31mThe Kernel crashed while executing code in the current cell or a previous cell. \n",
      "\u001b[1;31mPlease review the code in the cell(s) to identify a possible cause of the failure. \n",
      "\u001b[1;31mClick <a href='https://aka.ms/vscodeJupyterKernelCrash'>here</a> for more info. \n",
      "\u001b[1;31mView Jupyter <a href='command:jupyter.viewOutput'>log</a> for further details."
     ]
    }
   ],
   "source": [
    "from pathlib import Path\n",
    "\n",
    "from sklearn.linear_model import LinearRegression\n",
    "\n",
    "search_space = {\n",
    "    \"fit_intercept\": {\n",
    "        \"type\": \"categorical\",\n",
    "        \"bounds\": [True, False]\n",
    "    },\n",
    "    \"positive\": {\n",
    "        \"type\": \"categorical\",\n",
    "        \"bounds\": [True, False]\n",
    "    }\n",
    "}\n",
    "\n",
    "from sklearn.ensemble import RandomForestRegressor\n",
    "\n",
    "# Import modules directly\n",
    "from fittingroom.data import Dataset\n",
    "\n",
    "# Load dataset first\n",
    "dataset = Dataset.load(datadir=Path(\"../data/\"), task=\"brazilian_houses\", fold=1)\n",
    "\n",
    "print(f\"Dataset loaded successfully!\")\n",
    "print(f\"X_train shape: {dataset.X_train.shape}\")\n",
    "print(f\"y_train shape: {dataset.y_train.shape}\")\n",
    "\n",
    "# Now try importing hpo\n",
    "from fittingroom.hpo import hpo_search\n",
    "\n",
    "print(\"HPO module imported successfully!\")\n",
    "\n",
    "# Try running HPO with decision tree\n",
    "hpo_search(\n",
    "    model_cls=LinearRegression,\n",
    "    model_name=\"linear\",\n",
    "    X=dataset.X_train,\n",
    "    y=dataset.y_train,\n",
    "    search_space=search_space,\n",
    "    method=\"bayesian\",\n",
    "    seed=42,\n",
    ")"
   ]
  },
  {
   "cell_type": "code",
   "execution_count": 1,
   "id": "c6ea0ab8",
   "metadata": {},
   "outputs": [
    {
     "name": "stdout",
     "output_type": "stream",
     "text": [
      "['X_meta', 'y_meta']\n",
      "TabPFNRegressor(device='cpu', fit_mode='low_memory')\n"
     ]
    }
   ],
   "source": [
    "from tabpfn import TabPFNRegressor\n",
    "reg = TabPFNRegressor(device=\"cpu\", fit_mode=\"low_memory\")\n",
    "\n",
    "# get x_meta and y_meta from the file src/initial_meta_samples.npz\n",
    "import numpy as np\n",
    "meta_data = np.load(\"initial_meta_samples.npz\")\n",
    "print(meta_data.files)\n",
    "X_meta = meta_data[\"X_meta\"]\n",
    "y_meta = meta_data[\"y_meta\"]\n",
    "\n",
    "reg.fit(X_meta, y_meta)\n",
    "\n",
    "print(reg)\n"
   ]
  },
  {
   "cell_type": "code",
   "execution_count": null,
   "id": "3b6a3638",
   "metadata": {},
   "outputs": [],
   "source": []
  },
  {
   "cell_type": "code",
   "execution_count": 5,
   "id": "3b48c78b",
   "metadata": {},
   "outputs": [
    {
     "ename": "NameError",
     "evalue": "name 'pd' is not defined",
     "output_type": "error",
     "traceback": [
      "\u001b[31m---------------------------------------------------------------------------\u001b[39m",
      "\u001b[31mNameError\u001b[39m                                 Traceback (most recent call last)",
      "\u001b[36mCell\u001b[39m\u001b[36m \u001b[39m\u001b[32mIn[5]\u001b[39m\u001b[32m, line 3\u001b[39m\n\u001b[32m      1\u001b[39m \u001b[38;5;28;01mimport\u001b[39;00m\u001b[38;5;250m \u001b[39m\u001b[34;01mmatplotlib\u001b[39;00m\u001b[34;01m.\u001b[39;00m\u001b[34;01mpyplot\u001b[39;00m\u001b[38;5;250m \u001b[39m\u001b[38;5;28;01mas\u001b[39;00m\u001b[38;5;250m \u001b[39m\u001b[34;01mplt\u001b[39;00m\n\u001b[32m      2\u001b[39m depths = np.arange(\u001b[32m1\u001b[39m, \u001b[32m21\u001b[39m)\n\u001b[32m----> \u001b[39m\u001b[32m3\u001b[39m X_vis = \u001b[43mpd\u001b[49m.DataFrame({\u001b[33m\"\u001b[39m\u001b[33mmax_depth\u001b[39m\u001b[33m\"\u001b[39m: depths})\n\u001b[32m      4\u001b[39m X_vis_enc = pd.get_dummies(X_vis).astype(np.float32)\n\u001b[32m      6\u001b[39m pred = reg.predict(X_vis_enc.values, output_type=\u001b[33m\"\u001b[39m\u001b[33mquantiles\u001b[39m\u001b[33m\"\u001b[39m, quantiles=[\u001b[32m0.1\u001b[39m, \u001b[32m0.5\u001b[39m, \u001b[32m0.9\u001b[39m])\n",
      "\u001b[31mNameError\u001b[39m: name 'pd' is not defined"
     ]
    }
   ],
   "source": [
    "import matplotlib.pyplot as plt\n",
    "depths = np.arange(1, 21)\n",
    "X_vis = pd.DataFrame({\"max_depth\": depths})\n",
    "X_vis_enc = pd.get_dummies(X_vis).astype(np.float32)\n",
    "\n",
    "pred = reg.predict(X_vis_enc.values, output_type=\"quantiles\", quantiles=[0.1, 0.5, 0.9])\n",
    "q10, q50, q90 = pred[0], pred[1], pred[2]\n",
    "\n",
    "plt.plot(depths, q50, label=\"Predicted Mean\")\n",
    "plt.fill_between(depths, q10, q90, alpha=0.3, label=\"Uncertainty (q10–q90)\")\n",
    "plt.scatter(X_meta[\"max_depth\"], y_meta, color=\"black\", label=\"True values\")\n",
    "plt.xlabel(\"max_depth\")\n",
    "plt.ylabel(\"Validation Score\")\n",
    "plt.title(\"TabPFN Surrogate Fit on max_depth\")\n",
    "plt.legend()\n",
    "plt.show()"
   ]
  },
  {
   "cell_type": "code",
   "execution_count": null,
   "id": "5fe757dd",
   "metadata": {},
   "outputs": [],
   "source": []
  }
 ],
 "metadata": {
  "kernelspec": {
   "display_name": "automl-tabular-env",
   "language": "python",
   "name": "python3"
  },
  "language_info": {
   "codemirror_mode": {
    "name": "ipython",
    "version": 3
   },
   "file_extension": ".py",
   "mimetype": "text/x-python",
   "name": "python",
   "nbconvert_exporter": "python",
   "pygments_lexer": "ipython3",
   "version": "3.13.5"
  }
 },
 "nbformat": 4,
 "nbformat_minor": 5
}
